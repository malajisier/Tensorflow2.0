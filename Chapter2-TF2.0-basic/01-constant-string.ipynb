{
 "cells": [
  {
   "cell_type": "code",
   "execution_count": 1,
   "metadata": {},
   "outputs": [
    {
     "data": {
      "text/plain": [
       "'2.0.0-beta1'"
      ]
     },
     "execution_count": 1,
     "metadata": {},
     "output_type": "execute_result"
    }
   ],
   "source": [
    "import tensorflow as tf\n",
    "import numpy as np\n",
    "\n",
    "tf.__version__"
   ]
  },
  {
   "cell_type": "markdown",
   "metadata": {},
   "source": [
    "### 1. 常量    "
   ]
  },
  {
   "cell_type": "code",
   "execution_count": 2,
   "metadata": {},
   "outputs": [
    {
     "name": "stdout",
     "output_type": "stream",
     "text": [
      "tf.Tensor(\n",
      "[[1. 2. 3.]\n",
      " [4. 5. 6.]], shape=(2, 3), dtype=float32)\n",
      "tf.Tensor(\n",
      "[[2. 3.]\n",
      " [5. 6.]], shape=(2, 2), dtype=float32)\n",
      "tf.Tensor([2. 5.], shape=(2,), dtype=float32)\n"
     ]
    }
   ],
   "source": [
    "# index\n",
    "t = tf.constant([[1., 2., 3.], [4., 5., 6.]])\n",
    "print(t)\n",
    "print(t[:, 1:])\n",
    "print(t[..., 1])"
   ]
  },
  {
   "cell_type": "code",
   "execution_count": 3,
   "metadata": {},
   "outputs": [
    {
     "name": "stdout",
     "output_type": "stream",
     "text": [
      "tf.Tensor(\n",
      "[[11. 12. 13.]\n",
      " [14. 15. 16.]], shape=(2, 3), dtype=float32)\n",
      "tf.Tensor(\n",
      "[[ 1.  4.  9.]\n",
      " [16. 25. 36.]], shape=(2, 3), dtype=float32)\n",
      "tf.Tensor(\n",
      "[[14. 32.]\n",
      " [32. 77.]], shape=(2, 2), dtype=float32)\n"
     ]
    }
   ],
   "source": [
    "# operations\n",
    "print(t+10)\n",
    "print(tf.square(t))\n",
    "\n",
    "print(t @ tf.transpose(t)) # t.dot(t.T)"
   ]
  },
  {
   "cell_type": "code",
   "execution_count": 4,
   "metadata": {},
   "outputs": [
    {
     "name": "stdout",
     "output_type": "stream",
     "text": [
      "[[1. 2. 3.]\n",
      " [4. 5. 6.]]\n",
      "[[ 1.  4.  9.]\n",
      " [16. 25. 36.]]\n"
     ]
    }
   ],
   "source": [
    "# numpy conversion\n",
    "print(t.numpy())\n",
    "\n",
    "print(np.square(t))"
   ]
  },
  {
   "cell_type": "code",
   "execution_count": 5,
   "metadata": {},
   "outputs": [
    {
     "name": "stdout",
     "output_type": "stream",
     "text": [
      "tf.Tensor(1.234, shape=(), dtype=float32)\n",
      "()\n"
     ]
    }
   ],
   "source": [
    "# scalars\n",
    "a = tf.constant(1.234)\n",
    "print(a)\n",
    "print(a.shape) # 0维"
   ]
  },
  {
   "cell_type": "markdown",
   "metadata": {},
   "source": [
    "### 2. String"
   ]
  },
  {
   "cell_type": "code",
   "execution_count": 11,
   "metadata": {},
   "outputs": [
    {
     "name": "stdout",
     "output_type": "stream",
     "text": [
      "tf.Tensor(b'ares', shape=(), dtype=string)\n",
      "tf.Tensor(4, shape=(), dtype=int32)\n"
     ]
    }
   ],
   "source": [
    "str = tf.constant('ares')\n",
    "\n",
    "print(str)\n",
    "print(tf.strings.length(str))"
   ]
  },
  {
   "cell_type": "code",
   "execution_count": 14,
   "metadata": {},
   "outputs": [
    {
     "name": "stdout",
     "output_type": "stream",
     "text": [
      "tf.Tensor([ 97 114 101 115], shape=(4,), dtype=int32)\n"
     ]
    }
   ],
   "source": [
    "print(tf.strings.unicode_decode(str, \"UTF8\"))"
   ]
  },
  {
   "cell_type": "code",
   "execution_count": 17,
   "metadata": {},
   "outputs": [
    {
     "name": "stdout",
     "output_type": "stream",
     "text": [
      "tf.Tensor([9 6 6], shape=(3,), dtype=int32)\n",
      "<tf.RaggedTensor [[66, 51, 72, 85, 89, 50, 53, 50, 71], [84, 97, 121, 108, 111, 114], [20170, 22825, 20320, 24320, 24515, 21527]]>\n"
     ]
    }
   ],
   "source": [
    "# string array\n",
    "t = tf.constant([\"B3HUY252G\", \"Taylor\", \"今天你开心吗\"])\n",
    "print(tf.strings.length(t, unit=\"UTF8_CHAR\"))\n",
    "\n",
    "r = tf.strings.unicode_decode(t, \"UTF8\")\n",
    "print(r)"
   ]
  },
  {
   "cell_type": "markdown",
   "metadata": {},
   "source": [
    "### 3. 由上面的引入 `RaggedTensor`    \n",
    "RaggedTensor：TF2.0引入，不规整的tensor，比如列数不同  "
   ]
  },
  {
   "cell_type": "code",
   "execution_count": 30,
   "metadata": {},
   "outputs": [
    {
     "name": "stdout",
     "output_type": "stream",
     "text": [
      "<tf.RaggedTensor [[1, 2, 3], [23, 654], [1], [456, 663, 1, 76], []]>\n"
     ]
    }
   ],
   "source": [
    "rag = tf.ragged.constant([[1, 2, 3], [23, 654], [1], [456, 663, 1, 76], []])\n",
    "print(rag)"
   ]
  },
  {
   "cell_type": "code",
   "execution_count": 32,
   "metadata": {},
   "outputs": [
    {
     "name": "stdout",
     "output_type": "stream",
     "text": [
      "tf.Tensor([456 663   1  76], shape=(4,), dtype=int32)\n",
      "<tf.RaggedTensor [[456, 663, 1, 76]]>\n"
     ]
    }
   ],
   "source": [
    "# index ops\n",
    "print(rag[3]) # 第三行完整的一个tensor\n",
    "print(rag[3:4]) # 左开右闭，只取第三行"
   ]
  },
  {
   "cell_type": "code",
   "execution_count": 35,
   "metadata": {},
   "outputs": [
    {
     "name": "stdout",
     "output_type": "stream",
     "text": [
      "<tf.RaggedTensor [[1, 2, 3], [23, 654], [1], [456, 663, 1, 76], [], [324, 2], [21], []]>\n"
     ]
    }
   ],
   "source": [
    "# contact ops\n",
    "rag2 = tf.ragged.constant([[324,2], [21], []])\n",
    "print(tf.concat([rag, rag2], axis=0)) # 按行拼接"
   ]
  },
  {
   "cell_type": "code",
   "execution_count": 38,
   "metadata": {},
   "outputs": [
    {
     "name": "stdout",
     "output_type": "stream",
     "text": [
      "<tf.RaggedTensor [[324, 2, 1], [21, 323, 23, 65], [768, 0, 899, 24324]]>\n"
     ]
    }
   ],
   "source": [
    "# 按列拼接，必须行数相同\n",
    "rag3 = tf.ragged.constant([[1], [323, 23, 65], [768, 0, 899, 24324]])\n",
    "print(tf.concat([rag2, rag3], axis=1))"
   ]
  },
  {
   "cell_type": "code",
   "execution_count": null,
   "metadata": {},
   "outputs": [],
   "source": []
  }
 ],
 "metadata": {
  "kernelspec": {
   "display_name": "Python 3",
   "language": "python",
   "name": "python3"
  },
  "language_info": {
   "codemirror_mode": {
    "name": "ipython",
    "version": 3
   },
   "file_extension": ".py",
   "mimetype": "text/x-python",
   "name": "python",
   "nbconvert_exporter": "python",
   "pygments_lexer": "ipython3",
   "version": "3.7.1"
  }
 },
 "nbformat": 4,
 "nbformat_minor": 2
}
